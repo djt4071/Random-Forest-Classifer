{
 "cells": [
  {
   "cell_type": "code",
   "execution_count": 83,
   "metadata": {},
   "outputs": [],
   "source": [
    "# Required Python Packages\n",
    "import pandas as pd ### package for tabular data analysis\n",
    "pd.set_option('display.max_columns', None)\n",
    "from sklearn.model_selection import train_test_split ### used to split the dataset into test and train\n",
    "from sklearn.ensemble import RandomForestClassifier ### ML model\n",
    "from sklearn.metrics import accuracy_score ### used to calculate the accuracy of the trained classifier\n",
    "from sklearn.metrics import confusion_matrix ### ### used to understand the trained classifier behaviour over the test dataset or validate the dataset\n",
    "import matplotlib.pyplot as plt\n",
    "import numpy as np\n",
    "import pdb"
   ]
  },
  {
   "cell_type": "code",
   "execution_count": 84,
   "metadata": {},
   "outputs": [],
   "source": [
    "df= pd.read_csv('netmate_out.csv', sep = ',', header = None) \n",
    "\n",
    "df.columns =[\"srcip\", #0\n",
    "            \"srcport\", #1\n",
    "            \"dstip\", #2\n",
    "            \"dstport\", #3\n",
    "            \"proto\", #4\n",
    "            \"total_fpackets\", #5\n",
    "            \"total_fvolume\", #6\n",
    "            \"total_bpackets\", #7\n",
    "            \"total_bvolume\", #8\n",
    "            \"min_fpktl\", #9\n",
    "            \"mean_fpktl\", #10\n",
    "            \"max_fpktl\", #11\n",
    "            \"std_fpktl\", #12\n",
    "            \"min_bpktl\", #13\n",
    "            \"mean_bpktl\", #14\n",
    "            \"max_bpktl\", #15\n",
    "            \"std_bpktl\", #16\n",
    "            \"min_fiat\", #17\n",
    "            \"mean_fiat\", #18\n",
    "            \"max_fiat\", #19\n",
    "            \"std_fiat\", #20\n",
    "            \"min_biat\", #21\n",
    "            \"mean_biat\", #22\n",
    "            \"max_biat\", #23\n",
    "            \"std_biat\", #24\n",
    "            \"duration\", #25\n",
    "            \"min_active\", #26\n",
    "            \"mean_active\", #27\n",
    "            \"max_active\", #28\n",
    "            \"std_active\", #29\n",
    "            \"min_idle\", #30\n",
    "            \"mean_idle\", #31\n",
    "            \"max_idle\", #32\n",
    "            \"std_idle\", #33\n",
    "            \"sflow_fpackets\", #34\n",
    "            \"sflow_fbytes\", #35\n",
    "            \"sflow_bpackets\", #36\n",
    "            \"sflow_bbytes\", #37\n",
    "            \"fpsh_cnt\", #38\n",
    "            \"bpsh_cnt\", #39\n",
    "            \"furg_cnt\", #40\n",
    "            \"burg_cnt\", #41\n",
    "            \"total_fhlen\", #42\n",
    "            \"total_bhlen\", #43 ###44 flow statistics total\n",
    "            \"target_variable\"] #44\n",
    "\n",
    "interesting_features = df.loc[:, \n",
    "                           ['proto', #4 ==X0\n",
    "                           'min_fpktl', #9 ==X1\n",
    "                           'mean_fpktl', #10 ==X2\n",
    "                           'max_fpktl', #11 ==X3\n",
    "                           'std_fpktl', #12 ==X4\n",
    "                           'min_bpktl', #13 ==X5\n",
    "                           'mean_bpktl', #14 ==X6\n",
    "                           'max_bpktl', #15 ==X7 \n",
    "                           'std_bpktl', #16 ==X8\n",
    "                           'min_fiat', #17 ==X9\n",
    "                           'mean_fiat', #18 ==X10\n",
    "                           'max_fiat', #19 ==X11\n",
    "                           'std_fiat', #20 ==X12\n",
    "                           'min_biat', #21 ==X13\n",
    "                           'mean_biat', #22 ==X14\n",
    "                           'max_biat', #23 ==X15\n",
    "                           'std_biat', #24 ==X16\n",
    "                           'target_variable']] #44 ==Y          \n",
    "\n",
    "#print(interesting_features)"
   ]
  },
  {
   "cell_type": "code",
   "execution_count": 85,
   "metadata": {},
   "outputs": [],
   "source": [
    "headers= list(interesting_features.columns.values)\n",
    "#print(headers)"
   ]
  },
  {
   "cell_type": "code",
   "execution_count": 86,
   "metadata": {},
   "outputs": [],
   "source": [
    "def split_dataset(dataset, train_percentage, feature_headers, target_header):\n",
    "    \"\"\"\n",
    "    Split the dataset with train_percentage\n",
    "    :param dataset:\n",
    "    :param train_percentage:\n",
    "    :param feature_headers:\n",
    "    :param target_header:\n",
    "    :return: train_x, test_x, train_y, test_y\n",
    "    \"\"\"\n",
    "\n",
    "    # Split dataset into train and test dataset\n",
    "    train_x, test_x, train_y, test_y = train_test_split(interesting_features[feature_headers], interesting_features[target_header],\n",
    "                                                        train_size=train_percentage)\n",
    "    return train_x, test_x, train_y, test_y\n"
   ]
  },
  {
   "cell_type": "code",
   "execution_count": 87,
   "metadata": {},
   "outputs": [],
   "source": [
    "def random_forest_classifier(features, target):\n",
    "    \"\"\"\n",
    "    To train the random forest classifier with features and target data\n",
    "    :param features:\n",
    "    :param target:\n",
    "    :return: trained random forest classifier\n",
    "    \"\"\"\n",
    "    clf = RandomForestClassifier()\n",
    "    clf.fit(features, target)\n",
    "    return clf"
   ]
  },
  {
   "cell_type": "code",
   "execution_count": 88,
   "metadata": {
    "scrolled": true
   },
   "outputs": [
    {
     "name": "stderr",
     "output_type": "stream",
     "text": [
      "/Users/user1/anaconda3/lib/python3.6/site-packages/sklearn/model_selection/_split.py:2026: FutureWarning: From version 0.21, test_size will always complement train_size unless both are specified.\n",
      "  FutureWarning)\n"
     ]
    },
    {
     "name": "stdout",
     "output_type": "stream",
     "text": [
      "Train_x Shape ::  (227, 17)\n",
      "Train_y Shape ::  (227,)\n",
      "Test_x Shape ::  (98, 17)\n",
      "Test_y Shape ::  (98,)\n",
      "Trained model ::  RandomForestClassifier(bootstrap=True, class_weight=None, criterion='gini',\n",
      "            max_depth=None, max_features='auto', max_leaf_nodes=None,\n",
      "            min_impurity_decrease=0.0, min_impurity_split=None,\n",
      "            min_samples_leaf=1, min_samples_split=2,\n",
      "            min_weight_fraction_leaf=0.0, n_estimators=10, n_jobs=1,\n",
      "            oob_score=False, random_state=None, verbose=0,\n",
      "            warm_start=False)\n",
      "Actual outcome :: HTTP and Predicted outcome :: HTTP\n",
      "Actual outcome :: OpenVPN and Predicted outcome :: OpenVPN\n",
      "Actual outcome :: DNS and Predicted outcome :: DNS\n",
      "Actual outcome :: DNS and Predicted outcome :: DNS\n",
      "Actual outcome :: HTTP and Predicted outcome :: HTTP\n",
      "Train Accuracy ::  1.0\n",
      "Test Accuracy  ::  0.9897959183673469\n",
      "Confusion matrix  [[43  0  0  0]\n",
      " [ 0 36  1  0]\n",
      " [ 0  0  2  0]\n",
      " [ 0  0  0 16]]\n"
     ]
    },
    {
     "data": {
      "image/png": "[encoded data removed]",
      "text/plain": [
       "<matplotlib.figure.Figure at 0x1a22dd2240>"
      ]
     },
     "metadata": {},
     "output_type": "display_data"
    }
   ],
   "source": [
    "def main():\n",
    "    \"\"\"\n",
    "    Main function\n",
    "    :return:\n",
    "    \"\"\"\n",
    "    ### Split the dataset\n",
    "    train_x, test_x, train_y, test_y = split_dataset(interesting_features, 0.7, headers[0:-1], headers[-1])\n",
    " \n",
    "    # Print the split dataset shape details\n",
    "    print(\"Train_x Shape :: \", train_x.shape)\n",
    "    print(\"Train_y Shape :: \", train_y.shape)\n",
    "    print(\"Test_x Shape :: \", test_x.shape)\n",
    "    print(\"Test_y Shape :: \", test_y.shape)\n",
    "    \n",
    "    # Create the random forest classifier\n",
    "    trained_model = random_forest_classifier(train_x, train_y)\n",
    "    print(\"Trained model :: \", trained_model)\n",
    "    predictions = trained_model.predict(test_x)\n",
    "    \n",
    "    # Print the first 5 values of test_y and the preduct results target \n",
    "    for i in range(0, 5):\n",
    "        print(\"Actual outcome :: {} and Predicted outcome :: {}\".format(list(test_y)[i], predictions[i]))\n",
    "    \n",
    "    # Print the accuracy scores and confusion matrix\n",
    "    print(\"Train Accuracy :: \", accuracy_score(train_y, trained_model.predict(train_x)))\n",
    "    print(\"Test Accuracy  :: \", accuracy_score(test_y, predictions))\n",
    "    print(\"Confusion matrix \", confusion_matrix(test_y, predictions))\n",
    "    \n",
    "    ### Produce plot to show the order of feature importance\n",
    "    feat_importances = pd.Series(trained_model.feature_importances_, index=train_x.columns)\n",
    "    feat_importances = feat_importances.nlargest(20)\n",
    "    feat_importances.plot(kind='barh')\n",
    "    plt.title('Feature Importances')\n",
    "    plt.xlabel('Relative Importance')\n",
    "    \n",
    "if __name__ == \"__main__\":\n",
    "    main()"
   ]
  },
  {
   "cell_type": "code",
   "execution_count": null,
   "metadata": {},
   "outputs": [],
   "source": []
  },
  {
   "cell_type": "code",
   "execution_count": null,
   "metadata": {},
   "outputs": [],
   "source": []
  }
 ],
 "metadata": {
  "kernelspec": {
   "display_name": "Python 3",
   "language": "python",
   "name": "python3"
  },
  "language_info": {
   "codemirror_mode": {
    "name": "ipython",
    "version": 3
   },
   "file_extension": ".py",
   "mimetype": "text/x-python",
   "name": "python",
   "nbconvert_exporter": "python",
   "pygments_lexer": "ipython3",
   "version": "3.6.4"
  }
 },
 "nbformat": 4,
 "nbformat_minor": 2
}
